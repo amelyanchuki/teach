{
 "cells": [
  {
   "cell_type": "code",
   "execution_count": 9,
   "metadata": {},
   "outputs": [
    {
     "name": "stdout",
     "output_type": "stream",
     "text": [
      "0\n",
      "7\n"
     ]
    }
   ],
   "source": [
    "aq = int(input())\n",
    "bq = aq // 60\n",
    "cq = aq % 60\n",
    "print(bq)\n",
    "print(cq)"
   ]
  },
  {
   "cell_type": "code",
   "execution_count": 10,
   "metadata": {},
   "outputs": [
    {
     "ename": "ValueError",
     "evalue": "invalid literal for int() with base 10: ''",
     "output_type": "error",
     "traceback": [
      "\u001b[1;31m---------------------------------------------------------------------------\u001b[0m",
      "\u001b[1;31mValueError\u001b[0m                                Traceback (most recent call last)",
      "Cell \u001b[1;32mIn[10], line 3\u001b[0m\n\u001b[0;32m      1\u001b[0m x \u001b[39m=\u001b[39m \u001b[39mint\u001b[39m(\u001b[39minput\u001b[39m())\n\u001b[0;32m      2\u001b[0m h \u001b[39m=\u001b[39m \u001b[39mint\u001b[39m(\u001b[39minput\u001b[39m())\n\u001b[1;32m----> 3\u001b[0m m \u001b[39m=\u001b[39m \u001b[39mint\u001b[39;49m(\u001b[39minput\u001b[39;49m())\n\u001b[0;32m      4\u001b[0m \u001b[39mprint\u001b[39m((h \u001b[39m*\u001b[39m \u001b[39m60\u001b[39m \u001b[39m+\u001b[39m m \u001b[39m+\u001b[39m x) \u001b[39m/\u001b[39m\u001b[39m/\u001b[39m \u001b[39m60\u001b[39m)\n\u001b[0;32m      5\u001b[0m \u001b[39mprint\u001b[39m((h \u001b[39m*\u001b[39m \u001b[39m60\u001b[39m \u001b[39m+\u001b[39m m \u001b[39m+\u001b[39m x) \u001b[39m%\u001b[39m \u001b[39m60\u001b[39m)\n",
      "\u001b[1;31mValueError\u001b[0m: invalid literal for int() with base 10: ''"
     ]
    }
   ],
   "source": [
    "x = int(input())\n",
    "h = int(input())\n",
    "m = int(input())\n",
    "print((h * 60 + m + x) // 60)\n",
    "print((h * 60 + m + x) % 60)\n"
   ]
  },
  {
   "cell_type": "code",
   "execution_count": null,
   "metadata": {},
   "outputs": [
    {
     "data": {
      "text/plain": [
       "8"
      ]
     },
     "execution_count": 8,
     "metadata": {},
     "output_type": "execute_result"
    }
   ],
   "source": [
    "((a and b) or ((not a) and (not b)))"
   ]
  },
  {
   "cell_type": "code",
   "execution_count": null,
   "metadata": {},
   "outputs": [
    {
     "data": {
      "text/plain": [
       "True"
      ]
     },
     "execution_count": 9,
     "metadata": {},
     "output_type": "execute_result"
    }
   ],
   "source": [
    "x = 5\n",
    "y = 10\n",
    "y > x * x or y >= 2 * x and x < y"
   ]
  },
  {
   "cell_type": "code",
   "execution_count": null,
   "metadata": {},
   "outputs": [
    {
     "data": {
      "text/plain": [
       "True"
      ]
     },
     "execution_count": 16,
     "metadata": {},
     "output_type": "execute_result"
    }
   ],
   "source": [
    "10 > 25 or 10 >= 10 and 5 < 10"
   ]
  },
  {
   "cell_type": "code",
   "execution_count": null,
   "metadata": {},
   "outputs": [
    {
     "data": {
      "text/plain": [
       "False"
      ]
     },
     "execution_count": 17,
     "metadata": {},
     "output_type": "execute_result"
    }
   ],
   "source": [
    "a = True\n",
    "b = False\n",
    "a and b or not a and not b\n"
   ]
  },
  {
   "cell_type": "code",
   "execution_count": 12,
   "metadata": {},
   "outputs": [
    {
     "name": "stdout",
     "output_type": "stream",
     "text": [
      "Недосып\n"
     ]
    }
   ],
   "source": [
    "\n",
    "a = int(input())\n",
    "b = int(input()) \n",
    "h = int(input()) \n",
    "\n",
    "if a <= h <= b:\n",
    "    print(\"Это нормально\")\n",
    "elif a > h:\n",
    "    print(\"Недосып\")\n",
    "elif b < h:\n",
    "    print(\"пересып\")\n",
    "else:\n",
    "    print(\"чёт не так\")"
   ]
  },
  {
   "cell_type": "code",
   "execution_count": 15,
   "metadata": {},
   "outputs": [
    {
     "name": "stdout",
     "output_type": "stream",
     "text": [
      "Обычный\n"
     ]
    }
   ],
   "source": [
    "a = int(input())\n",
    "\n",
    "if a % 400 == 0 or (a % 4 == 0 and a % 100 != 0):\n",
    "    print(\"Високосный\")\n",
    "else:\n",
    "    print(\"Обычный\")"
   ]
  },
  {
   "cell_type": "code",
   "execution_count": 19,
   "metadata": {},
   "outputs": [
    {
     "data": {
      "text/plain": [
       "False"
      ]
     },
     "execution_count": 19,
     "metadata": {},
     "output_type": "execute_result"
    }
   ],
   "source": [
    "\"239\" > \"30\" and 239 > 30"
   ]
  },
  {
   "cell_type": "code",
   "execution_count": 21,
   "metadata": {},
   "outputs": [
    {
     "name": "stdout",
     "output_type": "stream",
     "text": [
      "6.0\n"
     ]
    }
   ],
   "source": [
    "a = int(input())\n",
    "b = int(input())\n",
    "c = int(input())\n",
    "\n",
    "p = (a + b + c) / 2\n",
    "\n",
    "s = (p * (p-a) * (p-b) * (p-c)) ** 0.5\n",
    "print(s)"
   ]
  },
  {
   "cell_type": "code",
   "execution_count": 23,
   "metadata": {},
   "outputs": [
    {
     "name": "stdout",
     "output_type": "stream",
     "text": [
      "False\n"
     ]
    }
   ],
   "source": [
    "a = int(input())\n",
    "\n",
    "if -15 < a <= 12 or 14 < a < 17 or 19<= a < 999999:\n",
    "    print(True)\n",
    "else:\n",
    "    print(False)\n"
   ]
  },
  {
   "cell_type": "code",
   "execution_count": 31,
   "metadata": {},
   "outputs": [
    {
     "name": "stdout",
     "output_type": "stream",
     "text": [
      "Деление на 0!\n"
     ]
    }
   ],
   "source": [
    "a = float(input())\n",
    "b = float(input())\n",
    "c = input()\n",
    "\n",
    "if c == \"/\":\n",
    "    if b != 0:\n",
    "        print(a / b)\n",
    "    else:\n",
    "        print(\"Деление на 0!\")\n",
    "elif c == \"*\":\n",
    "    print(a * b)\n",
    "elif c == \"+\":\n",
    "    print(a + b)\n",
    "elif c == \"-\":\n",
    "    print(a - b)\n",
    "elif c == \"mod\":\n",
    "    if b != 0:\n",
    "        print(a % b)\n",
    "    else:\n",
    "        print(\"Деление на 0!\")\n",
    "elif c == \"pow\":\n",
    "    print(a ** b)\n",
    "elif c == \"div\":\n",
    "    if b != 0:\n",
    "        print(a // b)\n",
    "    else:\n",
    "        print(\"Деление на 0!\")\n",
    "else:\n",
    "    print(\"чёт не так\")\n",
    "\n"
   ]
  },
  {
   "cell_type": "code",
   "execution_count": 35,
   "metadata": {},
   "outputs": [
    {
     "name": "stdout",
     "output_type": "stream",
     "text": [
      "6.0\n"
     ]
    }
   ],
   "source": [
    "f = input()\n",
    "\n",
    "if f == \"треугольник\":\n",
    "    a = int(input())\n",
    "    b = int(input())\n",
    "    c = int(input())\n",
    "    p = (a + b + c) / 2\n",
    "\n",
    "    s = (p * (p-a) * (p-b) * (p-c)) ** 0.5\n",
    "    print(s)\n",
    "elif f == \"прямоугольник\":\n",
    "    a = float(input())\n",
    "    b = float(input())\n",
    "    if a or b != 0:\n",
    "        print(a * b)\n",
    "    else: \n",
    "        pass\n",
    "elif f == \"круг\":      \n",
    "    a = float(input())\n",
    "    if a !=0:\n",
    "        print(3.14 * a ** 2)\n",
    "else:\n",
    "    print(\"чёт не так\")"
   ]
  },
  {
   "cell_type": "code",
   "execution_count": 65,
   "metadata": {},
   "outputs": [
    {
     "name": "stdout",
     "output_type": "stream",
     "text": [
      "14\n",
      "2\n",
      "8\n"
     ]
    }
   ],
   "source": [
    "a = int(input())\n",
    "b = int(input())\n",
    "c = int(input())\n",
    "\n",
    "if a < b < c:\n",
    "    print(c)\n",
    "    print(a)\n",
    "    print(b)\n",
    "elif c < b < a:\n",
    "    print(a)\n",
    "    print(c)\n",
    "    print(b)\n",
    "elif a < c < b :\n",
    "    print(b)\n",
    "    print(a)\n",
    "    print(c)\n",
    "elif b < c < a:\n",
    "    print(a)\n",
    "    print(b)\n",
    "    print(c)\n",
    "elif b < a < c:\n",
    "    print(c)\n",
    "    print(b)\n",
    "    print(a)\n",
    "elif c < a < b:\n",
    "    print(b)\n",
    "    print(c)\n",
    "    print(a)\n",
    "elif a <= b < c or a < b <= c:\n",
    "    print(c)\n",
    "    print(a)\n",
    "    print(b)\n",
    "elif c <= b < a or c < b <= a:\n",
    "    print(a)\n",
    "    print(c)\n",
    "    print(b)\n",
    "elif b <= a < c or b < a <= c:\n",
    "    print(c)\n",
    "    print(b)\n",
    "    print(a)\n",
    "elif c <= a < b or c < a <= b:\n",
    "    print(b)\n",
    "    print(c)\n",
    "    print(a)\n",
    "elif a <= c < b or a < c <= b:\n",
    "    print(b)\n",
    "    print(a)\n",
    "    print(c)\n",
    "elif b <= c < a or b < c <= a:\n",
    "    print(a)\n",
    "    print(b)\n",
    "    print(c)\n",
    "elif a == b == c:\n",
    "    print(a)\n",
    "    print(c)\n",
    "    print(b)\n",
    "else:\n",
    "    print(\"чёт не то\")\n",
    "\n",
    "    \n"
   ]
  },
  {
   "cell_type": "code",
   "execution_count": 72,
   "metadata": {},
   "outputs": [
    {
     "name": "stdout",
     "output_type": "stream",
     "text": [
      "666 программиста\n"
     ]
    }
   ],
   "source": [
    "n = int(input())\n",
    "if n < 0:\n",
    "    print(\"n меньше нуля\")\n",
    "elif n % 100 == 11:\n",
    "    print(n , \"программистов\")\n",
    "elif n % 100 == 12:\n",
    "    print(n , \"программистов\")\n",
    "elif n % 100 == 13:\n",
    "    print(n , \"программистов\")\n",
    "elif n % 100 == 14:\n",
    "    print(n , \"программистов\")\n",
    "elif n % 10 == 5:\n",
    "    print(n , \"программистов\")\n",
    "elif n % 10 == 6:\n",
    "    print(n , \"программистов\")\n",
    "elif n % 10 == 7:\n",
    "    print(n , \"программистов\")\n",
    "elif n % 10 == 8:\n",
    "    print(n , \"программистов\")\n",
    "elif n % 10 == 9:\n",
    "    print(n , \"программистов\")\n",
    "elif n % 10 == 0:\n",
    "    print(n , \"программистов\")\n",
    "elif n % 10 == 2:\n",
    "    print(n , \"программиста\")\n",
    "elif n % 10 == 3:\n",
    "    print(n , \"программиста\")\n",
    "elif n % 10 == 4:\n",
    "    print(n , \"программиста\")\n",
    "elif n % 10 == 1:\n",
    "    print(n, \"программист\")"
   ]
  },
  {
   "cell_type": "code",
   "execution_count": 78,
   "metadata": {},
   "outputs": [
    {
     "data": {
      "text/plain": [
       "True"
      ]
     },
     "execution_count": 78,
     "metadata": {},
     "output_type": "execute_result"
    }
   ],
   "source": []
  },
  {
   "cell_type": "code",
   "execution_count": null,
   "metadata": {},
   "outputs": [],
   "source": []
  }
 ],
 "metadata": {
  "kernelspec": {
   "display_name": "Python 3.9.6 ('.venv': venv)",
   "language": "python",
   "name": "python3"
  },
  "language_info": {
   "codemirror_mode": {
    "name": "ipython",
    "version": 3
   },
   "file_extension": ".py",
   "mimetype": "text/x-python",
   "name": "python",
   "nbconvert_exporter": "python",
   "pygments_lexer": "ipython3",
   "version": "3.9.6"
  },
  "orig_nbformat": 4,
  "vscode": {
   "interpreter": {
    "hash": "69fb80e7f3f61fbee72c6cebb15da04467f25a3e637a9159401732eb80936245"
   }
  }
 },
 "nbformat": 4,
 "nbformat_minor": 2
}
